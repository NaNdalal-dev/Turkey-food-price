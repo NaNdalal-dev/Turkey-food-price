{
 "cells": [
  {
   "cell_type": "code",
   "execution_count": 1,
   "metadata": {
    "execution": {
     "iopub.execute_input": "2021-07-13T19:38:22.562785Z",
     "iopub.status.busy": "2021-07-13T19:38:22.56244Z",
     "iopub.status.idle": "2021-07-13T19:38:22.57007Z",
     "shell.execute_reply": "2021-07-13T19:38:22.569201Z",
     "shell.execute_reply.started": "2021-07-13T19:38:22.562756Z"
    }
   },
   "outputs": [],
   "source": [
    "import numpy as np \n",
    "import pandas as pd \n",
    "import matplotlib.pyplot as plt\n",
    "import seaborn as sns\n",
    "from sklearn.model_selection import cross_val_score, train_test_split\n",
    "from sklearn.linear_model import LinearRegression, Lasso, Ridge\n",
    "from sklearn.preprocessing import StandardScaler,MinMaxScaler\n",
    "from sklearn.metrics import mean_squared_error\n",
    "%matplotlib inline"
   ]
  },
  {
   "cell_type": "code",
   "execution_count": 2,
   "metadata": {
    "execution": {
     "iopub.execute_input": "2021-07-13T19:38:22.599094Z",
     "iopub.status.busy": "2021-07-13T19:38:22.598524Z",
     "iopub.status.idle": "2021-07-13T19:38:22.6198Z",
     "shell.execute_reply": "2021-07-13T19:38:22.618941Z",
     "shell.execute_reply.started": "2021-07-13T19:38:22.599049Z"
    }
   },
   "outputs": [],
   "source": [
    "df1 = pd.read_csv('train.csv')\n",
    "df2 = pd.read_csv('test.csv')"
   ]
  },
  {
   "cell_type": "code",
   "execution_count": 3,
   "metadata": {
    "execution": {
     "iopub.execute_input": "2021-07-13T19:38:22.642537Z",
     "iopub.status.busy": "2021-07-13T19:38:22.642038Z",
     "iopub.status.idle": "2021-07-13T19:38:22.648616Z",
     "shell.execute_reply": "2021-07-13T19:38:22.64737Z",
     "shell.execute_reply.started": "2021-07-13T19:38:22.642503Z"
    }
   },
   "outputs": [
    {
     "data": {
      "text/plain": [
       "((7381, 8), (868, 8))"
      ]
     },
     "execution_count": 3,
     "metadata": {},
     "output_type": "execute_result"
    }
   ],
   "source": [
    "df1.shape, df2.shape"
   ]
  },
  {
   "cell_type": "code",
   "execution_count": 4,
   "metadata": {
    "execution": {
     "iopub.execute_input": "2021-07-13T19:38:22.674292Z",
     "iopub.status.busy": "2021-07-13T19:38:22.673756Z",
     "iopub.status.idle": "2021-07-13T19:38:22.685833Z",
     "shell.execute_reply": "2021-07-13T19:38:22.684728Z",
     "shell.execute_reply.started": "2021-07-13T19:38:22.674255Z"
    }
   },
   "outputs": [
    {
     "data": {
      "text/plain": [
       "Place          0\n",
       "ProductId      0\n",
       "ProductName    0\n",
       "UmId           0\n",
       "UmName         0\n",
       "Month          0\n",
       "Year           0\n",
       "Price          0\n",
       "dtype: int64"
      ]
     },
     "execution_count": 4,
     "metadata": {},
     "output_type": "execute_result"
    }
   ],
   "source": [
    "df1.isna().sum()"
   ]
  },
  {
   "cell_type": "code",
   "execution_count": 5,
   "metadata": {
    "execution": {
     "iopub.execute_input": "2021-07-13T19:38:22.711782Z",
     "iopub.status.busy": "2021-07-13T19:38:22.711276Z",
     "iopub.status.idle": "2021-07-13T19:38:22.720629Z",
     "shell.execute_reply": "2021-07-13T19:38:22.719417Z",
     "shell.execute_reply.started": "2021-07-13T19:38:22.711748Z"
    }
   },
   "outputs": [
    {
     "data": {
      "text/plain": [
       "Place          0\n",
       "ProductId      0\n",
       "ProductName    0\n",
       "UmId           0\n",
       "UmName         0\n",
       "Month          0\n",
       "Year           0\n",
       "Price          0\n",
       "dtype: int64"
      ]
     },
     "execution_count": 5,
     "metadata": {},
     "output_type": "execute_result"
    }
   ],
   "source": [
    "df2.isna().sum()"
   ]
  },
  {
   "cell_type": "code",
   "execution_count": 6,
   "metadata": {
    "execution": {
     "iopub.execute_input": "2021-07-13T19:38:22.744568Z",
     "iopub.status.busy": "2021-07-13T19:38:22.744086Z",
     "iopub.status.idle": "2021-07-13T19:38:22.752076Z",
     "shell.execute_reply": "2021-07-13T19:38:22.751303Z",
     "shell.execute_reply.started": "2021-07-13T19:38:22.744535Z"
    }
   },
   "outputs": [],
   "source": [
    "df = pd.concat([df1, df2], axis=0)"
   ]
  },
  {
   "cell_type": "code",
   "execution_count": 7,
   "metadata": {
    "execution": {
     "iopub.execute_input": "2021-07-13T19:38:22.780279Z",
     "iopub.status.busy": "2021-07-13T19:38:22.779721Z",
     "iopub.status.idle": "2021-07-13T19:38:22.785352Z",
     "shell.execute_reply": "2021-07-13T19:38:22.784564Z",
     "shell.execute_reply.started": "2021-07-13T19:38:22.780245Z"
    }
   },
   "outputs": [
    {
     "data": {
      "text/plain": [
       "(8249, 8)"
      ]
     },
     "execution_count": 7,
     "metadata": {},
     "output_type": "execute_result"
    }
   ],
   "source": [
    "df.shape"
   ]
  },
  {
   "cell_type": "code",
   "execution_count": 8,
   "metadata": {
    "execution": {
     "iopub.execute_input": "2021-07-13T19:38:22.849495Z",
     "iopub.status.busy": "2021-07-13T19:38:22.847403Z",
     "iopub.status.idle": "2021-07-13T19:38:22.873682Z",
     "shell.execute_reply": "2021-07-13T19:38:22.872693Z",
     "shell.execute_reply.started": "2021-07-13T19:38:22.849451Z"
    }
   },
   "outputs": [
    {
     "data": {
      "text/html": [
       "<div>\n",
       "<style scoped>\n",
       "    .dataframe tbody tr th:only-of-type {\n",
       "        vertical-align: middle;\n",
       "    }\n",
       "\n",
       "    .dataframe tbody tr th {\n",
       "        vertical-align: top;\n",
       "    }\n",
       "\n",
       "    .dataframe thead th {\n",
       "        text-align: right;\n",
       "    }\n",
       "</style>\n",
       "<table border=\"1\" class=\"dataframe\">\n",
       "  <thead>\n",
       "    <tr style=\"text-align: right;\">\n",
       "      <th></th>\n",
       "      <th>Place</th>\n",
       "      <th>ProductId</th>\n",
       "      <th>ProductName</th>\n",
       "      <th>UmId</th>\n",
       "      <th>UmName</th>\n",
       "      <th>Month</th>\n",
       "      <th>Year</th>\n",
       "      <th>Price</th>\n",
       "    </tr>\n",
       "  </thead>\n",
       "  <tbody>\n",
       "    <tr>\n",
       "      <td>0</td>\n",
       "      <td>National Average</td>\n",
       "      <td>52</td>\n",
       "      <td>Rice - Retail</td>\n",
       "      <td>5</td>\n",
       "      <td>KG</td>\n",
       "      <td>5</td>\n",
       "      <td>2013</td>\n",
       "      <td>4.4920</td>\n",
       "    </tr>\n",
       "    <tr>\n",
       "      <td>1</td>\n",
       "      <td>National Average</td>\n",
       "      <td>52</td>\n",
       "      <td>Rice - Retail</td>\n",
       "      <td>5</td>\n",
       "      <td>KG</td>\n",
       "      <td>6</td>\n",
       "      <td>2013</td>\n",
       "      <td>4.5786</td>\n",
       "    </tr>\n",
       "    <tr>\n",
       "      <td>2</td>\n",
       "      <td>National Average</td>\n",
       "      <td>52</td>\n",
       "      <td>Rice - Retail</td>\n",
       "      <td>5</td>\n",
       "      <td>KG</td>\n",
       "      <td>11</td>\n",
       "      <td>2013</td>\n",
       "      <td>4.7865</td>\n",
       "    </tr>\n",
       "    <tr>\n",
       "      <td>3</td>\n",
       "      <td>National Average</td>\n",
       "      <td>52</td>\n",
       "      <td>Rice - Retail</td>\n",
       "      <td>5</td>\n",
       "      <td>KG</td>\n",
       "      <td>12</td>\n",
       "      <td>2013</td>\n",
       "      <td>5.1337</td>\n",
       "    </tr>\n",
       "    <tr>\n",
       "      <td>4</td>\n",
       "      <td>National Average</td>\n",
       "      <td>52</td>\n",
       "      <td>Rice - Retail</td>\n",
       "      <td>5</td>\n",
       "      <td>KG</td>\n",
       "      <td>1</td>\n",
       "      <td>2014</td>\n",
       "      <td>5.5099</td>\n",
       "    </tr>\n",
       "    <tr>\n",
       "      <td>...</td>\n",
       "      <td>...</td>\n",
       "      <td>...</td>\n",
       "      <td>...</td>\n",
       "      <td>...</td>\n",
       "      <td>...</td>\n",
       "      <td>...</td>\n",
       "      <td>...</td>\n",
       "      <td>...</td>\n",
       "    </tr>\n",
       "    <tr>\n",
       "      <td>863</td>\n",
       "      <td>Izmir</td>\n",
       "      <td>502</td>\n",
       "      <td>Cocoa (powder) - Retail</td>\n",
       "      <td>5</td>\n",
       "      <td>KG</td>\n",
       "      <td>1</td>\n",
       "      <td>2021</td>\n",
       "      <td>68.2002</td>\n",
       "    </tr>\n",
       "    <tr>\n",
       "      <td>864</td>\n",
       "      <td>Izmir</td>\n",
       "      <td>502</td>\n",
       "      <td>Cocoa (powder) - Retail</td>\n",
       "      <td>5</td>\n",
       "      <td>KG</td>\n",
       "      <td>2</td>\n",
       "      <td>2021</td>\n",
       "      <td>68.6250</td>\n",
       "    </tr>\n",
       "    <tr>\n",
       "      <td>865</td>\n",
       "      <td>Izmir</td>\n",
       "      <td>502</td>\n",
       "      <td>Cocoa (powder) - Retail</td>\n",
       "      <td>5</td>\n",
       "      <td>KG</td>\n",
       "      <td>3</td>\n",
       "      <td>2021</td>\n",
       "      <td>71.2310</td>\n",
       "    </tr>\n",
       "    <tr>\n",
       "      <td>866</td>\n",
       "      <td>Izmir</td>\n",
       "      <td>502</td>\n",
       "      <td>Cocoa (powder) - Retail</td>\n",
       "      <td>5</td>\n",
       "      <td>KG</td>\n",
       "      <td>4</td>\n",
       "      <td>2021</td>\n",
       "      <td>73.2609</td>\n",
       "    </tr>\n",
       "    <tr>\n",
       "      <td>867</td>\n",
       "      <td>Izmir</td>\n",
       "      <td>502</td>\n",
       "      <td>Cocoa (powder) - Retail</td>\n",
       "      <td>5</td>\n",
       "      <td>KG</td>\n",
       "      <td>5</td>\n",
       "      <td>2021</td>\n",
       "      <td>75.6859</td>\n",
       "    </tr>\n",
       "  </tbody>\n",
       "</table>\n",
       "<p>8249 rows × 8 columns</p>\n",
       "</div>"
      ],
      "text/plain": [
       "                Place  ProductId              ProductName  UmId UmName  Month  \\\n",
       "0    National Average         52            Rice - Retail     5     KG      5   \n",
       "1    National Average         52            Rice - Retail     5     KG      6   \n",
       "2    National Average         52            Rice - Retail     5     KG     11   \n",
       "3    National Average         52            Rice - Retail     5     KG     12   \n",
       "4    National Average         52            Rice - Retail     5     KG      1   \n",
       "..                ...        ...                      ...   ...    ...    ...   \n",
       "863             Izmir        502  Cocoa (powder) - Retail     5     KG      1   \n",
       "864             Izmir        502  Cocoa (powder) - Retail     5     KG      2   \n",
       "865             Izmir        502  Cocoa (powder) - Retail     5     KG      3   \n",
       "866             Izmir        502  Cocoa (powder) - Retail     5     KG      4   \n",
       "867             Izmir        502  Cocoa (powder) - Retail     5     KG      5   \n",
       "\n",
       "     Year    Price  \n",
       "0    2013   4.4920  \n",
       "1    2013   4.5786  \n",
       "2    2013   4.7865  \n",
       "3    2013   5.1337  \n",
       "4    2014   5.5099  \n",
       "..    ...      ...  \n",
       "863  2021  68.2002  \n",
       "864  2021  68.6250  \n",
       "865  2021  71.2310  \n",
       "866  2021  73.2609  \n",
       "867  2021  75.6859  \n",
       "\n",
       "[8249 rows x 8 columns]"
      ]
     },
     "execution_count": 8,
     "metadata": {},
     "output_type": "execute_result"
    }
   ],
   "source": [
    "df"
   ]
  },
  {
   "cell_type": "code",
   "execution_count": 9,
   "metadata": {
    "execution": {
     "iopub.execute_input": "2021-07-13T19:38:22.881979Z",
     "iopub.status.busy": "2021-07-13T19:38:22.881606Z",
     "iopub.status.idle": "2021-07-13T19:38:22.888267Z",
     "shell.execute_reply": "2021-07-13T19:38:22.887448Z",
     "shell.execute_reply.started": "2021-07-13T19:38:22.881947Z"
    }
   },
   "outputs": [
    {
     "data": {
      "text/plain": [
       "Index(['Place', 'ProductId', 'ProductName', 'UmId', 'UmName', 'Month', 'Year',\n",
       "       'Price'],\n",
       "      dtype='object')"
      ]
     },
     "execution_count": 9,
     "metadata": {},
     "output_type": "execute_result"
    }
   ],
   "source": [
    "df.columns"
   ]
  },
  {
   "cell_type": "code",
   "execution_count": 10,
   "metadata": {
    "execution": {
     "iopub.execute_input": "2021-07-13T19:38:22.907551Z",
     "iopub.status.busy": "2021-07-13T19:38:22.906957Z",
     "iopub.status.idle": "2021-07-13T19:38:22.915153Z",
     "shell.execute_reply": "2021-07-13T19:38:22.913912Z",
     "shell.execute_reply.started": "2021-07-13T19:38:22.907503Z"
    }
   },
   "outputs": [],
   "source": [
    "df.drop(['ProductId', 'UmId'], axis=1, inplace=True)"
   ]
  },
  {
   "cell_type": "code",
   "execution_count": 11,
   "metadata": {
    "execution": {
     "iopub.execute_input": "2021-07-13T19:38:22.969887Z",
     "iopub.status.busy": "2021-07-13T19:38:22.969492Z",
     "iopub.status.idle": "2021-07-13T19:38:22.984987Z",
     "shell.execute_reply": "2021-07-13T19:38:22.983615Z",
     "shell.execute_reply.started": "2021-07-13T19:38:22.969853Z"
    }
   },
   "outputs": [
    {
     "data": {
      "text/html": [
       "<div>\n",
       "<style scoped>\n",
       "    .dataframe tbody tr th:only-of-type {\n",
       "        vertical-align: middle;\n",
       "    }\n",
       "\n",
       "    .dataframe tbody tr th {\n",
       "        vertical-align: top;\n",
       "    }\n",
       "\n",
       "    .dataframe thead th {\n",
       "        text-align: right;\n",
       "    }\n",
       "</style>\n",
       "<table border=\"1\" class=\"dataframe\">\n",
       "  <thead>\n",
       "    <tr style=\"text-align: right;\">\n",
       "      <th></th>\n",
       "      <th>Place</th>\n",
       "      <th>ProductName</th>\n",
       "      <th>UmName</th>\n",
       "      <th>Month</th>\n",
       "      <th>Year</th>\n",
       "      <th>Price</th>\n",
       "    </tr>\n",
       "  </thead>\n",
       "  <tbody>\n",
       "    <tr>\n",
       "      <td>0</td>\n",
       "      <td>National Average</td>\n",
       "      <td>Rice - Retail</td>\n",
       "      <td>KG</td>\n",
       "      <td>5</td>\n",
       "      <td>2013</td>\n",
       "      <td>4.4920</td>\n",
       "    </tr>\n",
       "    <tr>\n",
       "      <td>1</td>\n",
       "      <td>National Average</td>\n",
       "      <td>Rice - Retail</td>\n",
       "      <td>KG</td>\n",
       "      <td>6</td>\n",
       "      <td>2013</td>\n",
       "      <td>4.5786</td>\n",
       "    </tr>\n",
       "    <tr>\n",
       "      <td>2</td>\n",
       "      <td>National Average</td>\n",
       "      <td>Rice - Retail</td>\n",
       "      <td>KG</td>\n",
       "      <td>11</td>\n",
       "      <td>2013</td>\n",
       "      <td>4.7865</td>\n",
       "    </tr>\n",
       "    <tr>\n",
       "      <td>3</td>\n",
       "      <td>National Average</td>\n",
       "      <td>Rice - Retail</td>\n",
       "      <td>KG</td>\n",
       "      <td>12</td>\n",
       "      <td>2013</td>\n",
       "      <td>5.1337</td>\n",
       "    </tr>\n",
       "    <tr>\n",
       "      <td>4</td>\n",
       "      <td>National Average</td>\n",
       "      <td>Rice - Retail</td>\n",
       "      <td>KG</td>\n",
       "      <td>1</td>\n",
       "      <td>2014</td>\n",
       "      <td>5.5099</td>\n",
       "    </tr>\n",
       "  </tbody>\n",
       "</table>\n",
       "</div>"
      ],
      "text/plain": [
       "              Place    ProductName UmName  Month  Year   Price\n",
       "0  National Average  Rice - Retail     KG      5  2013  4.4920\n",
       "1  National Average  Rice - Retail     KG      6  2013  4.5786\n",
       "2  National Average  Rice - Retail     KG     11  2013  4.7865\n",
       "3  National Average  Rice - Retail     KG     12  2013  5.1337\n",
       "4  National Average  Rice - Retail     KG      1  2014  5.5099"
      ]
     },
     "execution_count": 11,
     "metadata": {},
     "output_type": "execute_result"
    }
   ],
   "source": [
    "df.head()"
   ]
  },
  {
   "cell_type": "code",
   "execution_count": 12,
   "metadata": {
    "execution": {
     "iopub.execute_input": "2021-07-13T19:38:23.001109Z",
     "iopub.status.busy": "2021-07-13T19:38:23.000659Z",
     "iopub.status.idle": "2021-07-13T19:38:23.016066Z",
     "shell.execute_reply": "2021-07-13T19:38:23.014539Z",
     "shell.execute_reply.started": "2021-07-13T19:38:23.001073Z"
    }
   },
   "outputs": [
    {
     "data": {
      "text/plain": [
       "Groundnuts (shelled) - Retail                             194\n",
       "Meat (chicken) - Retail                                   194\n",
       "Tomatoes - Retail                                         194\n",
       "Oil (sunflower) - Retail                                  194\n",
       "Fish (fresh) - Retail                                     194\n",
       "Coffee - Retail                                           194\n",
       "Lentils - Retail                                          194\n",
       "Bananas - Retail                                          194\n",
       "Meat (mutton) - Retail                                    194\n",
       "Pasta - Retail                                            194\n",
       "Tea - Retail                                              194\n",
       "Meat (veal) - Retail                                      194\n",
       "Beans (white) - Retail                                    194\n",
       "Eggs - Retail                                             194\n",
       "Oil (olive) - Retail                                      194\n",
       "Wheat flour - Retail                                      194\n",
       "Salt - Retail                                             194\n",
       "Bulgur - Retail                                           194\n",
       "Rice - Retail                                             194\n",
       "Sugar - Retail                                            194\n",
       "Onions - Retail                                           194\n",
       "Chickpeas - Retail                                        194\n",
       "Cocoa (powder) - Retail                                   194\n",
       "Bread (common) - Retail                                   194\n",
       "Milk (pasteurized) - Retail                               194\n",
       "Garlic - Retail                                           194\n",
       "Tomatoes (paste) - Retail                                 174\n",
       "Yogurt - Retail                                           174\n",
       "Milk (powder, infant formula) - Retail                    174\n",
       "Cheese - Retail                                           174\n",
       "Eggplants - Retail                                        174\n",
       "Fuel (petrol-gasoline) - Retail                           174\n",
       "Potatoes - Retail                                         174\n",
       "Coffee (instant) - Retail                                 170\n",
       "Fuel (gas) - Retail                                       166\n",
       "Apples - Retail                                           152\n",
       "Cucumbers - Retail                                        152\n",
       "Zucchini - Retail                                         152\n",
       "Water - Retail                                            152\n",
       "Tea (herbal) - Retail                                     152\n",
       "Electricity - Retail                                      152\n",
       "Oranges - Retail                                          142\n",
       "Transport (public) - Retail                               131\n",
       "Cabbage - Retail                                          105\n",
       "Cauliflower - Retail                                       97\n",
       "Spinach - Retail                                           87\n",
       "Apples (red) - Retail                                      42\n",
       "Cucumbers (greenhouse) - Retail                            42\n",
       "Tea (green) - Retail                                       42\n",
       "Wage (non-qualified labour, non-agricultural) - Retail     22\n",
       "Bread (pita) - Retail                                      22\n",
       "Peas (green, dry) - Retail                                  7\n",
       "Name: ProductName, dtype: int64"
      ]
     },
     "execution_count": 12,
     "metadata": {},
     "output_type": "execute_result"
    }
   ],
   "source": [
    "df['ProductName'].value_counts()"
   ]
  },
  {
   "cell_type": "code",
   "execution_count": 13,
   "metadata": {
    "execution": {
     "iopub.execute_input": "2021-07-13T19:38:23.030043Z",
     "iopub.status.busy": "2021-07-13T19:38:23.029516Z",
     "iopub.status.idle": "2021-07-13T19:38:23.041826Z",
     "shell.execute_reply": "2021-07-13T19:38:23.040952Z",
     "shell.execute_reply.started": "2021-07-13T19:38:23.030006Z"
    }
   },
   "outputs": [],
   "source": [
    "cols_to_replace = df['ProductName'].value_counts()[df['ProductName'].value_counts() < 50].keys()"
   ]
  },
  {
   "cell_type": "code",
   "execution_count": 14,
   "metadata": {
    "execution": {
     "iopub.execute_input": "2021-07-13T19:38:23.05852Z",
     "iopub.status.busy": "2021-07-13T19:38:23.058008Z",
     "iopub.status.idle": "2021-07-13T19:38:23.069368Z",
     "shell.execute_reply": "2021-07-13T19:38:23.068101Z",
     "shell.execute_reply.started": "2021-07-13T19:38:23.058485Z"
    }
   },
   "outputs": [],
   "source": [
    "df['ProductName'].replace(cols_to_replace,['Others' for i in range(6)],inplace=True)"
   ]
  },
  {
   "cell_type": "code",
   "execution_count": 15,
   "metadata": {
    "execution": {
     "iopub.execute_input": "2021-07-13T19:38:23.090279Z",
     "iopub.status.busy": "2021-07-13T19:38:23.089715Z",
     "iopub.status.idle": "2021-07-13T19:38:23.100433Z",
     "shell.execute_reply": "2021-07-13T19:38:23.099341Z",
     "shell.execute_reply.started": "2021-07-13T19:38:23.090226Z"
    }
   },
   "outputs": [
    {
     "data": {
      "text/plain": [
       "177"
      ]
     },
     "execution_count": 15,
     "metadata": {},
     "output_type": "execute_result"
    }
   ],
   "source": [
    "df['ProductName'].value_counts()['Others']"
   ]
  },
  {
   "cell_type": "code",
   "execution_count": 16,
   "metadata": {
    "execution": {
     "iopub.execute_input": "2021-07-13T19:38:23.110514Z",
     "iopub.status.busy": "2021-07-13T19:38:23.109963Z",
     "iopub.status.idle": "2021-07-13T19:38:23.877754Z",
     "shell.execute_reply": "2021-07-13T19:38:23.876626Z",
     "shell.execute_reply.started": "2021-07-13T19:38:23.110468Z"
    }
   },
   "outputs": [
    {
     "data": {
      "image/png": "[encoded data removed]",
      "text/plain": [
       "<Figure size 1080x1080 with 1 Axes>"
      ]
     },
     "metadata": {
      "needs_background": "light"
     },
     "output_type": "display_data"
    }
   ],
   "source": [
    "plt.figure(figsize=(15,15))\n",
    "df['ProductName'].value_counts().plot(kind='barh')\n",
    "plt.gca().invert_yaxis()\n",
    "plt.show()"
   ]
  },
  {
   "cell_type": "code",
   "execution_count": 17,
   "metadata": {
    "execution": {
     "iopub.execute_input": "2021-07-13T19:38:23.880014Z",
     "iopub.status.busy": "2021-07-13T19:38:23.879555Z",
     "iopub.status.idle": "2021-07-13T19:38:23.888588Z",
     "shell.execute_reply": "2021-07-13T19:38:23.887389Z",
     "shell.execute_reply.started": "2021-07-13T19:38:23.879969Z"
    }
   },
   "outputs": [
    {
     "data": {
      "text/plain": [
       "Place           object\n",
       "ProductName     object\n",
       "UmName          object\n",
       "Month            int64\n",
       "Year             int64\n",
       "Price          float64\n",
       "dtype: object"
      ]
     },
     "execution_count": 17,
     "metadata": {},
     "output_type": "execute_result"
    }
   ],
   "source": [
    "df.dtypes"
   ]
  },
  {
   "cell_type": "code",
   "execution_count": 18,
   "metadata": {
    "execution": {
     "iopub.execute_input": "2021-07-13T19:38:23.8914Z",
     "iopub.status.busy": "2021-07-13T19:38:23.890963Z",
     "iopub.status.idle": "2021-07-13T19:38:24.051963Z",
     "shell.execute_reply": "2021-07-13T19:38:24.050662Z",
     "shell.execute_reply.started": "2021-07-13T19:38:23.891352Z"
    }
   },
   "outputs": [
    {
     "data": {
      "image/png": "[encoded data removed]",
      "text/plain": [
       "<Figure size 432x288 with 1 Axes>"
      ]
     },
     "metadata": {
      "needs_background": "light"
     },
     "output_type": "display_data"
    }
   ],
   "source": [
    "df.Place.value_counts().plot(kind='barh')\n",
    "plt.gca().invert_yaxis()\n",
    "plt.show()\n"
   ]
  },
  {
   "cell_type": "code",
   "execution_count": 19,
   "metadata": {
    "execution": {
     "iopub.execute_input": "2021-07-13T19:38:24.054586Z",
     "iopub.status.busy": "2021-07-13T19:38:24.054138Z",
     "iopub.status.idle": "2021-07-13T19:38:24.066598Z",
     "shell.execute_reply": "2021-07-13T19:38:24.065367Z",
     "shell.execute_reply.started": "2021-07-13T19:38:24.054542Z"
    }
   },
   "outputs": [
    {
     "data": {
      "text/plain": [
       "KG             6312\n",
       "L               756\n",
       "Unit            406\n",
       "12 KG           166\n",
       "Package         152\n",
       "kWh             152\n",
       "Cubic meter     152\n",
       "Course          131\n",
       "Day              22\n",
       "Name: UmName, dtype: int64"
      ]
     },
     "execution_count": 19,
     "metadata": {},
     "output_type": "execute_result"
    }
   ],
   "source": [
    "df.UmName.value_counts()"
   ]
  },
  {
   "cell_type": "code",
   "execution_count": 20,
   "metadata": {
    "execution": {
     "iopub.execute_input": "2021-07-13T19:38:24.068683Z",
     "iopub.status.busy": "2021-07-13T19:38:24.068181Z",
     "iopub.status.idle": "2021-07-13T19:38:24.225148Z",
     "shell.execute_reply": "2021-07-13T19:38:24.223972Z",
     "shell.execute_reply.started": "2021-07-13T19:38:24.068628Z"
    }
   },
   "outputs": [
    {
     "data": {
      "image/png": "[encoded data removed]",
      "text/plain": [
       "<Figure size 432x288 with 1 Axes>"
      ]
     },
     "metadata": {
      "needs_background": "light"
     },
     "output_type": "display_data"
    }
   ],
   "source": [
    "df['Place'].value_counts().plot(kind='barh')\n",
    "plt.gca().invert_yaxis()\n",
    "plt.show()"
   ]
  },
  {
   "cell_type": "code",
   "execution_count": 21,
   "metadata": {
    "execution": {
     "iopub.execute_input": "2021-07-13T19:38:24.226691Z",
     "iopub.status.busy": "2021-07-13T19:38:24.226394Z",
     "iopub.status.idle": "2021-07-13T19:38:24.243629Z",
     "shell.execute_reply": "2021-07-13T19:38:24.242511Z",
     "shell.execute_reply.started": "2021-07-13T19:38:24.226661Z"
    }
   },
   "outputs": [],
   "source": [
    "df_dummies = pd.get_dummies(df[['Place', 'ProductName', 'UmName']],drop_first=True)"
   ]
  },
  {
   "cell_type": "code",
   "execution_count": 22,
   "metadata": {
    "execution": {
     "iopub.execute_input": "2021-07-13T19:38:24.245051Z",
     "iopub.status.busy": "2021-07-13T19:38:24.24473Z",
     "iopub.status.idle": "2021-07-13T19:38:24.252997Z",
     "shell.execute_reply": "2021-07-13T19:38:24.252168Z",
     "shell.execute_reply.started": "2021-07-13T19:38:24.245016Z"
    }
   },
   "outputs": [
    {
     "data": {
      "text/plain": [
       "Index(['Place_Istanbul', 'Place_Izmir', 'Place_National Average',\n",
       "       'ProductName_Bananas - Retail', 'ProductName_Beans (white) - Retail',\n",
       "       'ProductName_Bread (common) - Retail', 'ProductName_Bulgur - Retail',\n",
       "       'ProductName_Cabbage - Retail', 'ProductName_Cauliflower - Retail',\n",
       "       'ProductName_Cheese - Retail', 'ProductName_Chickpeas - Retail',\n",
       "       'ProductName_Cocoa (powder) - Retail',\n",
       "       'ProductName_Coffee (instant) - Retail', 'ProductName_Coffee - Retail',\n",
       "       'ProductName_Cucumbers - Retail', 'ProductName_Eggplants - Retail',\n",
       "       'ProductName_Eggs - Retail', 'ProductName_Electricity - Retail',\n",
       "       'ProductName_Fish (fresh) - Retail', 'ProductName_Fuel (gas) - Retail',\n",
       "       'ProductName_Fuel (petrol-gasoline) - Retail',\n",
       "       'ProductName_Garlic - Retail',\n",
       "       'ProductName_Groundnuts (shelled) - Retail',\n",
       "       'ProductName_Lentils - Retail', 'ProductName_Meat (chicken) - Retail',\n",
       "       'ProductName_Meat (mutton) - Retail',\n",
       "       'ProductName_Meat (veal) - Retail',\n",
       "       'ProductName_Milk (pasteurized) - Retail',\n",
       "       'ProductName_Milk (powder, infant formula) - Retail',\n",
       "       'ProductName_Oil (olive) - Retail',\n",
       "       'ProductName_Oil (sunflower) - Retail', 'ProductName_Onions - Retail',\n",
       "       'ProductName_Oranges - Retail', 'ProductName_Others',\n",
       "       'ProductName_Pasta - Retail', 'ProductName_Potatoes - Retail',\n",
       "       'ProductName_Rice - Retail', 'ProductName_Salt - Retail',\n",
       "       'ProductName_Spinach - Retail', 'ProductName_Sugar - Retail',\n",
       "       'ProductName_Tea (herbal) - Retail', 'ProductName_Tea - Retail',\n",
       "       'ProductName_Tomatoes (paste) - Retail',\n",
       "       'ProductName_Tomatoes - Retail',\n",
       "       'ProductName_Transport (public) - Retail', 'ProductName_Water - Retail',\n",
       "       'ProductName_Wheat flour - Retail', 'ProductName_Yogurt - Retail',\n",
       "       'ProductName_Zucchini - Retail', 'UmName_Course', 'UmName_Cubic meter',\n",
       "       'UmName_Day', 'UmName_KG', 'UmName_L', 'UmName_Package', 'UmName_Unit',\n",
       "       'UmName_kWh'],\n",
       "      dtype='object')"
      ]
     },
     "execution_count": 22,
     "metadata": {},
     "output_type": "execute_result"
    }
   ],
   "source": [
    "df_dummies.columns"
   ]
  },
  {
   "cell_type": "code",
   "execution_count": 23,
   "metadata": {
    "execution": {
     "iopub.execute_input": "2021-07-13T19:38:24.256177Z",
     "iopub.status.busy": "2021-07-13T19:38:24.255798Z",
     "iopub.status.idle": "2021-07-13T19:38:24.266756Z",
     "shell.execute_reply": "2021-07-13T19:38:24.265727Z",
     "shell.execute_reply.started": "2021-07-13T19:38:24.256142Z"
    }
   },
   "outputs": [],
   "source": [
    "df['Year'] = df['Year']/10000\n",
    "df['Month'] = df['Month']/100\n"
   ]
  },
  {
   "cell_type": "code",
   "execution_count": 24,
   "metadata": {
    "execution": {
     "iopub.execute_input": "2021-07-13T19:38:24.268945Z",
     "iopub.status.busy": "2021-07-13T19:38:24.268611Z",
     "iopub.status.idle": "2021-07-13T19:38:24.291626Z",
     "shell.execute_reply": "2021-07-13T19:38:24.290821Z",
     "shell.execute_reply.started": "2021-07-13T19:38:24.268913Z"
    }
   },
   "outputs": [
    {
     "data": {
      "text/html": [
       "<div>\n",
       "<style scoped>\n",
       "    .dataframe tbody tr th:only-of-type {\n",
       "        vertical-align: middle;\n",
       "    }\n",
       "\n",
       "    .dataframe tbody tr th {\n",
       "        vertical-align: top;\n",
       "    }\n",
       "\n",
       "    .dataframe thead th {\n",
       "        text-align: right;\n",
       "    }\n",
       "</style>\n",
       "<table border=\"1\" class=\"dataframe\">\n",
       "  <thead>\n",
       "    <tr style=\"text-align: right;\">\n",
       "      <th></th>\n",
       "      <th>Place</th>\n",
       "      <th>ProductName</th>\n",
       "      <th>UmName</th>\n",
       "      <th>Month</th>\n",
       "      <th>Year</th>\n",
       "      <th>Price</th>\n",
       "    </tr>\n",
       "  </thead>\n",
       "  <tbody>\n",
       "    <tr>\n",
       "      <td>0</td>\n",
       "      <td>National Average</td>\n",
       "      <td>Rice - Retail</td>\n",
       "      <td>KG</td>\n",
       "      <td>0.05</td>\n",
       "      <td>0.2013</td>\n",
       "      <td>4.4920</td>\n",
       "    </tr>\n",
       "    <tr>\n",
       "      <td>1</td>\n",
       "      <td>National Average</td>\n",
       "      <td>Rice - Retail</td>\n",
       "      <td>KG</td>\n",
       "      <td>0.06</td>\n",
       "      <td>0.2013</td>\n",
       "      <td>4.5786</td>\n",
       "    </tr>\n",
       "    <tr>\n",
       "      <td>2</td>\n",
       "      <td>National Average</td>\n",
       "      <td>Rice - Retail</td>\n",
       "      <td>KG</td>\n",
       "      <td>0.11</td>\n",
       "      <td>0.2013</td>\n",
       "      <td>4.7865</td>\n",
       "    </tr>\n",
       "    <tr>\n",
       "      <td>3</td>\n",
       "      <td>National Average</td>\n",
       "      <td>Rice - Retail</td>\n",
       "      <td>KG</td>\n",
       "      <td>0.12</td>\n",
       "      <td>0.2013</td>\n",
       "      <td>5.1337</td>\n",
       "    </tr>\n",
       "    <tr>\n",
       "      <td>4</td>\n",
       "      <td>National Average</td>\n",
       "      <td>Rice - Retail</td>\n",
       "      <td>KG</td>\n",
       "      <td>0.01</td>\n",
       "      <td>0.2014</td>\n",
       "      <td>5.5099</td>\n",
       "    </tr>\n",
       "  </tbody>\n",
       "</table>\n",
       "</div>"
      ],
      "text/plain": [
       "              Place    ProductName UmName  Month    Year   Price\n",
       "0  National Average  Rice - Retail     KG   0.05  0.2013  4.4920\n",
       "1  National Average  Rice - Retail     KG   0.06  0.2013  4.5786\n",
       "2  National Average  Rice - Retail     KG   0.11  0.2013  4.7865\n",
       "3  National Average  Rice - Retail     KG   0.12  0.2013  5.1337\n",
       "4  National Average  Rice - Retail     KG   0.01  0.2014  5.5099"
      ]
     },
     "execution_count": 24,
     "metadata": {},
     "output_type": "execute_result"
    }
   ],
   "source": [
    "df.head()"
   ]
  },
  {
   "cell_type": "code",
   "execution_count": 25,
   "metadata": {
    "execution": {
     "iopub.execute_input": "2021-07-13T19:38:24.293034Z",
     "iopub.status.busy": "2021-07-13T19:38:24.292676Z",
     "iopub.status.idle": "2021-07-13T19:38:24.307013Z",
     "shell.execute_reply": "2021-07-13T19:38:24.305881Z",
     "shell.execute_reply.started": "2021-07-13T19:38:24.292998Z"
    }
   },
   "outputs": [],
   "source": [
    "df_main = pd.concat([df_dummies, df[['Month', 'Year', 'Price']]], axis=1)"
   ]
  },
  {
   "cell_type": "code",
   "execution_count": 26,
   "metadata": {
    "execution": {
     "iopub.execute_input": "2021-07-13T19:38:24.308725Z",
     "iopub.status.busy": "2021-07-13T19:38:24.308414Z",
     "iopub.status.idle": "2021-07-13T19:38:24.322379Z",
     "shell.execute_reply": "2021-07-13T19:38:24.321405Z",
     "shell.execute_reply.started": "2021-07-13T19:38:24.308695Z"
    }
   },
   "outputs": [
    {
     "data": {
      "text/plain": [
       "(8249, 60)"
      ]
     },
     "execution_count": 26,
     "metadata": {},
     "output_type": "execute_result"
    }
   ],
   "source": [
    "df_main.shape"
   ]
  },
  {
   "cell_type": "code",
   "execution_count": 27,
   "metadata": {
    "execution": {
     "iopub.execute_input": "2021-07-13T19:38:24.323747Z",
     "iopub.status.busy": "2021-07-13T19:38:24.32345Z",
     "iopub.status.idle": "2021-07-13T19:38:24.356129Z",
     "shell.execute_reply": "2021-07-13T19:38:24.355116Z",
     "shell.execute_reply.started": "2021-07-13T19:38:24.323716Z"
    }
   },
   "outputs": [
    {
     "data": {
      "text/html": [
       "<div>\n",
       "<style scoped>\n",
       "    .dataframe tbody tr th:only-of-type {\n",
       "        vertical-align: middle;\n",
       "    }\n",
       "\n",
       "    .dataframe tbody tr th {\n",
       "        vertical-align: top;\n",
       "    }\n",
       "\n",
       "    .dataframe thead th {\n",
       "        text-align: right;\n",
       "    }\n",
       "</style>\n",
       "<table border=\"1\" class=\"dataframe\">\n",
       "  <thead>\n",
       "    <tr style=\"text-align: right;\">\n",
       "      <th></th>\n",
       "      <th>Place_Istanbul</th>\n",
       "      <th>Place_Izmir</th>\n",
       "      <th>Place_National Average</th>\n",
       "      <th>ProductName_Bananas - Retail</th>\n",
       "      <th>ProductName_Beans (white) - Retail</th>\n",
       "      <th>ProductName_Bread (common) - Retail</th>\n",
       "      <th>ProductName_Bulgur - Retail</th>\n",
       "      <th>ProductName_Cabbage - Retail</th>\n",
       "      <th>ProductName_Cauliflower - Retail</th>\n",
       "      <th>ProductName_Cheese - Retail</th>\n",
       "      <th>...</th>\n",
       "      <th>UmName_Cubic meter</th>\n",
       "      <th>UmName_Day</th>\n",
       "      <th>UmName_KG</th>\n",
       "      <th>UmName_L</th>\n",
       "      <th>UmName_Package</th>\n",
       "      <th>UmName_Unit</th>\n",
       "      <th>UmName_kWh</th>\n",
       "      <th>Month</th>\n",
       "      <th>Year</th>\n",
       "      <th>Price</th>\n",
       "    </tr>\n",
       "  </thead>\n",
       "  <tbody>\n",
       "    <tr>\n",
       "      <td>0</td>\n",
       "      <td>0</td>\n",
       "      <td>0</td>\n",
       "      <td>1</td>\n",
       "      <td>0</td>\n",
       "      <td>0</td>\n",
       "      <td>0</td>\n",
       "      <td>0</td>\n",
       "      <td>0</td>\n",
       "      <td>0</td>\n",
       "      <td>0</td>\n",
       "      <td>...</td>\n",
       "      <td>0</td>\n",
       "      <td>0</td>\n",
       "      <td>1</td>\n",
       "      <td>0</td>\n",
       "      <td>0</td>\n",
       "      <td>0</td>\n",
       "      <td>0</td>\n",
       "      <td>0.05</td>\n",
       "      <td>0.2013</td>\n",
       "      <td>4.4920</td>\n",
       "    </tr>\n",
       "    <tr>\n",
       "      <td>1</td>\n",
       "      <td>0</td>\n",
       "      <td>0</td>\n",
       "      <td>1</td>\n",
       "      <td>0</td>\n",
       "      <td>0</td>\n",
       "      <td>0</td>\n",
       "      <td>0</td>\n",
       "      <td>0</td>\n",
       "      <td>0</td>\n",
       "      <td>0</td>\n",
       "      <td>...</td>\n",
       "      <td>0</td>\n",
       "      <td>0</td>\n",
       "      <td>1</td>\n",
       "      <td>0</td>\n",
       "      <td>0</td>\n",
       "      <td>0</td>\n",
       "      <td>0</td>\n",
       "      <td>0.06</td>\n",
       "      <td>0.2013</td>\n",
       "      <td>4.5786</td>\n",
       "    </tr>\n",
       "    <tr>\n",
       "      <td>2</td>\n",
       "      <td>0</td>\n",
       "      <td>0</td>\n",
       "      <td>1</td>\n",
       "      <td>0</td>\n",
       "      <td>0</td>\n",
       "      <td>0</td>\n",
       "      <td>0</td>\n",
       "      <td>0</td>\n",
       "      <td>0</td>\n",
       "      <td>0</td>\n",
       "      <td>...</td>\n",
       "      <td>0</td>\n",
       "      <td>0</td>\n",
       "      <td>1</td>\n",
       "      <td>0</td>\n",
       "      <td>0</td>\n",
       "      <td>0</td>\n",
       "      <td>0</td>\n",
       "      <td>0.11</td>\n",
       "      <td>0.2013</td>\n",
       "      <td>4.7865</td>\n",
       "    </tr>\n",
       "    <tr>\n",
       "      <td>3</td>\n",
       "      <td>0</td>\n",
       "      <td>0</td>\n",
       "      <td>1</td>\n",
       "      <td>0</td>\n",
       "      <td>0</td>\n",
       "      <td>0</td>\n",
       "      <td>0</td>\n",
       "      <td>0</td>\n",
       "      <td>0</td>\n",
       "      <td>0</td>\n",
       "      <td>...</td>\n",
       "      <td>0</td>\n",
       "      <td>0</td>\n",
       "      <td>1</td>\n",
       "      <td>0</td>\n",
       "      <td>0</td>\n",
       "      <td>0</td>\n",
       "      <td>0</td>\n",
       "      <td>0.12</td>\n",
       "      <td>0.2013</td>\n",
       "      <td>5.1337</td>\n",
       "    </tr>\n",
       "    <tr>\n",
       "      <td>4</td>\n",
       "      <td>0</td>\n",
       "      <td>0</td>\n",
       "      <td>1</td>\n",
       "      <td>0</td>\n",
       "      <td>0</td>\n",
       "      <td>0</td>\n",
       "      <td>0</td>\n",
       "      <td>0</td>\n",
       "      <td>0</td>\n",
       "      <td>0</td>\n",
       "      <td>...</td>\n",
       "      <td>0</td>\n",
       "      <td>0</td>\n",
       "      <td>1</td>\n",
       "      <td>0</td>\n",
       "      <td>0</td>\n",
       "      <td>0</td>\n",
       "      <td>0</td>\n",
       "      <td>0.01</td>\n",
       "      <td>0.2014</td>\n",
       "      <td>5.5099</td>\n",
       "    </tr>\n",
       "  </tbody>\n",
       "</table>\n",
       "<p>5 rows × 60 columns</p>\n",
       "</div>"
      ],
      "text/plain": [
       "   Place_Istanbul  Place_Izmir  Place_National Average  \\\n",
       "0               0            0                       1   \n",
       "1               0            0                       1   \n",
       "2               0            0                       1   \n",
       "3               0            0                       1   \n",
       "4               0            0                       1   \n",
       "\n",
       "   ProductName_Bananas - Retail  ProductName_Beans (white) - Retail  \\\n",
       "0                             0                                   0   \n",
       "1                             0                                   0   \n",
       "2                             0                                   0   \n",
       "3                             0                                   0   \n",
       "4                             0                                   0   \n",
       "\n",
       "   ProductName_Bread (common) - Retail  ProductName_Bulgur - Retail  \\\n",
       "0                                    0                            0   \n",
       "1                                    0                            0   \n",
       "2                                    0                            0   \n",
       "3                                    0                            0   \n",
       "4                                    0                            0   \n",
       "\n",
       "   ProductName_Cabbage - Retail  ProductName_Cauliflower - Retail  \\\n",
       "0                             0                                 0   \n",
       "1                             0                                 0   \n",
       "2                             0                                 0   \n",
       "3                             0                                 0   \n",
       "4                             0                                 0   \n",
       "\n",
       "   ProductName_Cheese - Retail  ...  UmName_Cubic meter  UmName_Day  \\\n",
       "0                            0  ...                   0           0   \n",
       "1                            0  ...                   0           0   \n",
       "2                            0  ...                   0           0   \n",
       "3                            0  ...                   0           0   \n",
       "4                            0  ...                   0           0   \n",
       "\n",
       "   UmName_KG  UmName_L  UmName_Package  UmName_Unit  UmName_kWh  Month  \\\n",
       "0          1         0               0            0           0   0.05   \n",
       "1          1         0               0            0           0   0.06   \n",
       "2          1         0               0            0           0   0.11   \n",
       "3          1         0               0            0           0   0.12   \n",
       "4          1         0               0            0           0   0.01   \n",
       "\n",
       "     Year   Price  \n",
       "0  0.2013  4.4920  \n",
       "1  0.2013  4.5786  \n",
       "2  0.2013  4.7865  \n",
       "3  0.2013  5.1337  \n",
       "4  0.2014  5.5099  \n",
       "\n",
       "[5 rows x 60 columns]"
      ]
     },
     "execution_count": 27,
     "metadata": {},
     "output_type": "execute_result"
    }
   ],
   "source": [
    "df_main.head()"
   ]
  },
  {
   "cell_type": "code",
   "execution_count": 28,
   "metadata": {
    "execution": {
     "iopub.execute_input": "2021-07-13T19:38:24.357714Z",
     "iopub.status.busy": "2021-07-13T19:38:24.357399Z",
     "iopub.status.idle": "2021-07-13T19:38:24.369702Z",
     "shell.execute_reply": "2021-07-13T19:38:24.368584Z",
     "shell.execute_reply.started": "2021-07-13T19:38:24.357683Z"
    }
   },
   "outputs": [],
   "source": [
    "x, y = df_main.drop(['Price'],axis=1), df_main['Price']\n",
    "\n",
    "x_train, x_test, y_train, y_test = train_test_split(x, y, test_size=0.25)"
   ]
  },
  {
   "cell_type": "code",
   "execution_count": 29,
   "metadata": {
    "execution": {
     "iopub.execute_input": "2021-07-13T19:38:24.371766Z",
     "iopub.status.busy": "2021-07-13T19:38:24.371217Z",
     "iopub.status.idle": "2021-07-13T19:38:24.380999Z",
     "shell.execute_reply": "2021-07-13T19:38:24.380072Z",
     "shell.execute_reply.started": "2021-07-13T19:38:24.371731Z"
    }
   },
   "outputs": [
    {
     "data": {
      "text/plain": [
       "((6186, 59), (2063, 59))"
      ]
     },
     "execution_count": 29,
     "metadata": {},
     "output_type": "execute_result"
    }
   ],
   "source": [
    "x_train.shape, x_test.shape"
   ]
  },
  {
   "cell_type": "code",
   "execution_count": 30,
   "metadata": {
    "execution": {
     "iopub.execute_input": "2021-07-13T19:38:24.383178Z",
     "iopub.status.busy": "2021-07-13T19:38:24.382623Z",
     "iopub.status.idle": "2021-07-13T19:38:24.401083Z",
     "shell.execute_reply": "2021-07-13T19:38:24.399944Z",
     "shell.execute_reply.started": "2021-07-13T19:38:24.383129Z"
    }
   },
   "outputs": [
    {
     "data": {
      "text/plain": [
       "((6186,), (2063,))"
      ]
     },
     "execution_count": 30,
     "metadata": {},
     "output_type": "execute_result"
    }
   ],
   "source": [
    "y_train.shape, y_test.shape"
   ]
  },
  {
   "cell_type": "code",
   "execution_count": 31,
   "metadata": {
    "execution": {
     "iopub.execute_input": "2021-07-13T19:38:24.402972Z",
     "iopub.status.busy": "2021-07-13T19:38:24.402535Z",
     "iopub.status.idle": "2021-07-13T19:38:24.437297Z",
     "shell.execute_reply": "2021-07-13T19:38:24.436251Z",
     "shell.execute_reply.started": "2021-07-13T19:38:24.402937Z"
    }
   },
   "outputs": [
    {
     "data": {
      "text/plain": [
       "LinearRegression()"
      ]
     },
     "execution_count": 31,
     "metadata": {},
     "output_type": "execute_result"
    }
   ],
   "source": [
    "model = LinearRegression()\n",
    "model.fit(x_train, y_train)"
   ]
  },
  {
   "cell_type": "code",
   "execution_count": 32,
   "metadata": {
    "execution": {
     "iopub.execute_input": "2021-07-13T19:38:24.439173Z",
     "iopub.status.busy": "2021-07-13T19:38:24.438802Z",
     "iopub.status.idle": "2021-07-13T19:38:24.454248Z",
     "shell.execute_reply": "2021-07-13T19:38:24.453139Z",
     "shell.execute_reply.started": "2021-07-13T19:38:24.43914Z"
    }
   },
   "outputs": [],
   "source": [
    "y_pred_test = model.predict(x_test)\n",
    "y_pred_train = model.predict(x_train)"
   ]
  },
  {
   "cell_type": "code",
   "execution_count": 33,
   "metadata": {
    "execution": {
     "iopub.execute_input": "2021-07-13T19:38:24.45707Z",
     "iopub.status.busy": "2021-07-13T19:38:24.45599Z",
     "iopub.status.idle": "2021-07-13T19:38:24.474417Z",
     "shell.execute_reply": "2021-07-13T19:38:24.47299Z",
     "shell.execute_reply.started": "2021-07-13T19:38:24.457011Z"
    }
   },
   "outputs": [
    {
     "data": {
      "text/plain": [
       "0.9291787220787456"
      ]
     },
     "execution_count": 33,
     "metadata": {},
     "output_type": "execute_result"
    }
   ],
   "source": [
    "model.score(x_test, y_test)"
   ]
  },
  {
   "cell_type": "code",
   "execution_count": 34,
   "metadata": {
    "execution": {
     "iopub.execute_input": "2021-07-13T19:38:24.477463Z",
     "iopub.status.busy": "2021-07-13T19:38:24.476525Z",
     "iopub.status.idle": "2021-07-13T19:38:24.493565Z",
     "shell.execute_reply": "2021-07-13T19:38:24.49225Z",
     "shell.execute_reply.started": "2021-07-13T19:38:24.477404Z"
    }
   },
   "outputs": [
    {
     "data": {
      "text/plain": [
       "0.9065259108171584"
      ]
     },
     "execution_count": 34,
     "metadata": {},
     "output_type": "execute_result"
    }
   ],
   "source": [
    "model.score(x_train, y_train)"
   ]
  },
  {
   "cell_type": "code",
   "execution_count": 35,
   "metadata": {
    "execution": {
     "iopub.execute_input": "2021-07-13T19:38:24.497358Z",
     "iopub.status.busy": "2021-07-13T19:38:24.496072Z",
     "iopub.status.idle": "2021-07-13T19:38:24.509421Z",
     "shell.execute_reply": "2021-07-13T19:38:24.508039Z",
     "shell.execute_reply.started": "2021-07-13T19:38:24.497294Z"
    }
   },
   "outputs": [
    {
     "data": {
      "text/plain": [
       "39.63309216547304"
      ]
     },
     "execution_count": 35,
     "metadata": {},
     "output_type": "execute_result"
    }
   ],
   "source": [
    "mean_squared_error(y_test, y_pred_test)"
   ]
  },
  {
   "cell_type": "code",
   "execution_count": 36,
   "metadata": {
    "execution": {
     "iopub.execute_input": "2021-07-13T19:38:24.512914Z",
     "iopub.status.busy": "2021-07-13T19:38:24.512053Z",
     "iopub.status.idle": "2021-07-13T19:38:24.523869Z",
     "shell.execute_reply": "2021-07-13T19:38:24.522612Z",
     "shell.execute_reply.started": "2021-07-13T19:38:24.512858Z"
    }
   },
   "outputs": [
    {
     "data": {
      "text/plain": [
       "49.35656512706401"
      ]
     },
     "execution_count": 36,
     "metadata": {},
     "output_type": "execute_result"
    }
   ],
   "source": [
    "mean_squared_error(y_train, y_pred_train)"
   ]
  },
  {
   "cell_type": "code",
   "execution_count": null,
   "metadata": {},
   "outputs": [],
   "source": []
  },
  {
   "cell_type": "code",
   "execution_count": 37,
   "metadata": {
    "execution": {
     "iopub.execute_input": "2021-07-13T19:38:24.527238Z",
     "iopub.status.busy": "2021-07-13T19:38:24.526328Z",
     "iopub.status.idle": "2021-07-13T19:38:25.066201Z",
     "shell.execute_reply": "2021-07-13T19:38:25.064979Z",
     "shell.execute_reply.started": "2021-07-13T19:38:24.527178Z"
    }
   },
   "outputs": [
    {
     "data": {
      "text/plain": [
       "[0.22423154749204688,\n",
       " -2.8656746875874775e+22,\n",
       " 0.8708120099049023,\n",
       " 0.9574419341909033,\n",
       " 0.9299052948836698,\n",
       " 0.9612246386783703,\n",
       " 0.9330351778811389,\n",
       " 0.9531389581743496,\n",
       " 0.9327413322633135,\n",
       " 0.7703169947624621]"
      ]
     },
     "execution_count": 37,
     "metadata": {},
     "output_type": "execute_result"
    }
   ],
   "source": [
    "[float(i) for i in cross_val_score(LinearRegression(), x, y, cv=10)]"
   ]
  },
  {
   "cell_type": "code",
   "execution_count": 38,
   "metadata": {
    "execution": {
     "iopub.execute_input": "2021-07-13T19:38:25.071997Z",
     "iopub.status.busy": "2021-07-13T19:38:25.071014Z",
     "iopub.status.idle": "2021-07-13T19:38:25.318551Z",
     "shell.execute_reply": "2021-07-13T19:38:25.317356Z",
     "shell.execute_reply.started": "2021-07-13T19:38:25.071928Z"
    }
   },
   "outputs": [
    {
     "data": {
      "text/plain": [
       "[0.8358793089719038,\n",
       " 0.6119855334355373,\n",
       " 0.8478728675330411,\n",
       " 0.915923989764121,\n",
       " 0.9464507181110415,\n",
       " 0.916034732051312,\n",
       " 0.9504051838030224,\n",
       " 0.9235868792788291,\n",
       " 0.7309501548629733]"
      ]
     },
     "execution_count": 38,
     "metadata": {},
     "output_type": "execute_result"
    }
   ],
   "source": [
    "[float(i) for i in cross_val_score(Ridge(), x, y, cv=9)]"
   ]
  },
  {
   "cell_type": "code",
   "execution_count": null,
   "metadata": {},
   "outputs": [],
   "source": []
  },
  {
   "cell_type": "code",
   "execution_count": 39,
   "metadata": {
    "execution": {
     "iopub.execute_input": "2021-07-13T19:38:25.321708Z",
     "iopub.status.busy": "2021-07-13T19:38:25.320835Z",
     "iopub.status.idle": "2021-07-13T19:38:25.501029Z",
     "shell.execute_reply": "2021-07-13T19:38:25.500229Z",
     "shell.execute_reply.started": "2021-07-13T19:38:25.32165Z"
    }
   },
   "outputs": [],
   "source": [
    "x_train.to_csv('MyTrain.csv',index=False)\n",
    "x_test.to_csv('MyTest.csv',index=False)"
   ]
  },
  {
   "cell_type": "code",
   "execution_count": null,
   "metadata": {},
   "outputs": [],
   "source": []
  }
 ],
 "metadata": {
  "kernelspec": {
   "display_name": "Python 3",
   "language": "python",
   "name": "python3"
  },
  "language_info": {
   "codemirror_mode": {
    "name": "ipython",
    "version": 3
   },
   "file_extension": ".py",
   "mimetype": "text/x-python",
   "name": "python",
   "nbconvert_exporter": "python",
   "pygments_lexer": "ipython3",
   "version": "3.7.3"
  }
 },
 "nbformat": 4,
 "nbformat_minor": 4
}
